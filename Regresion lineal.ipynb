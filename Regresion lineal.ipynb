{
 "cells": [
  {
   "cell_type": "code",
   "execution_count": 3,
   "id": "7ad89ec9-7cab-4090-bd60-0b404bc80d95",
   "metadata": {
    "tags": []
   },
   "outputs": [],
   "source": [
    "import matplotlib.pyplot as plt\n",
    "from sklearn import linear_model # usando sklear para saber los valores optimos\n",
    "import seaborn as sns\n",
    "import numpy as np\n",
    "import pandas as pd"
   ]
  },
  {
   "cell_type": "code",
   "execution_count": 8,
   "id": "bed915d4-40a2-4b5b-911d-6c931261b97d",
   "metadata": {
    "tags": []
   },
   "outputs": [],
   "source": [
    "data = pd.read_csv(r\"C:\\Users\\orion\\OneDrive\\cars.csv\", sep=\",\")"
   ]
  },
  {
   "cell_type": "code",
   "execution_count": 9,
   "id": "b660150e-7203-41ba-91e1-1c661281c177",
   "metadata": {
    "tags": []
   },
   "outputs": [
    {
     "data": {
      "text/html": [
       "<div>\n",
       "<style scoped>\n",
       "    .dataframe tbody tr th:only-of-type {\n",
       "        vertical-align: middle;\n",
       "    }\n",
       "\n",
       "    .dataframe tbody tr th {\n",
       "        vertical-align: top;\n",
       "    }\n",
       "\n",
       "    .dataframe thead th {\n",
       "        text-align: right;\n",
       "    }\n",
       "</style>\n",
       "<table border=\"1\" class=\"dataframe\">\n",
       "  <thead>\n",
       "    <tr style=\"text-align: right;\">\n",
       "      <th></th>\n",
       "      <th>make</th>\n",
       "      <th>model</th>\n",
       "      <th>priceUSD</th>\n",
       "      <th>year</th>\n",
       "      <th>condition</th>\n",
       "      <th>mileage(kilometers)</th>\n",
       "      <th>fuel_type</th>\n",
       "      <th>volume(cm3)</th>\n",
       "      <th>color</th>\n",
       "      <th>transmission</th>\n",
       "      <th>drive_unit</th>\n",
       "      <th>segment</th>\n",
       "    </tr>\n",
       "  </thead>\n",
       "  <tbody>\n",
       "    <tr>\n",
       "      <th>0</th>\n",
       "      <td>mazda</td>\n",
       "      <td>2</td>\n",
       "      <td>5500</td>\n",
       "      <td>2008</td>\n",
       "      <td>with mileage</td>\n",
       "      <td>162000.0</td>\n",
       "      <td>petrol</td>\n",
       "      <td>1500.0</td>\n",
       "      <td>burgundy</td>\n",
       "      <td>mechanics</td>\n",
       "      <td>front-wheel drive</td>\n",
       "      <td>B</td>\n",
       "    </tr>\n",
       "    <tr>\n",
       "      <th>1</th>\n",
       "      <td>mazda</td>\n",
       "      <td>2</td>\n",
       "      <td>5350</td>\n",
       "      <td>2009</td>\n",
       "      <td>with mileage</td>\n",
       "      <td>120000.0</td>\n",
       "      <td>petrol</td>\n",
       "      <td>1300.0</td>\n",
       "      <td>black</td>\n",
       "      <td>mechanics</td>\n",
       "      <td>front-wheel drive</td>\n",
       "      <td>B</td>\n",
       "    </tr>\n",
       "    <tr>\n",
       "      <th>2</th>\n",
       "      <td>mazda</td>\n",
       "      <td>2</td>\n",
       "      <td>7000</td>\n",
       "      <td>2009</td>\n",
       "      <td>with mileage</td>\n",
       "      <td>61000.0</td>\n",
       "      <td>petrol</td>\n",
       "      <td>1500.0</td>\n",
       "      <td>silver</td>\n",
       "      <td>auto</td>\n",
       "      <td>front-wheel drive</td>\n",
       "      <td>B</td>\n",
       "    </tr>\n",
       "    <tr>\n",
       "      <th>3</th>\n",
       "      <td>mazda</td>\n",
       "      <td>2</td>\n",
       "      <td>3300</td>\n",
       "      <td>2003</td>\n",
       "      <td>with mileage</td>\n",
       "      <td>265000.0</td>\n",
       "      <td>diesel</td>\n",
       "      <td>1400.0</td>\n",
       "      <td>white</td>\n",
       "      <td>mechanics</td>\n",
       "      <td>front-wheel drive</td>\n",
       "      <td>B</td>\n",
       "    </tr>\n",
       "    <tr>\n",
       "      <th>4</th>\n",
       "      <td>mazda</td>\n",
       "      <td>2</td>\n",
       "      <td>5200</td>\n",
       "      <td>2008</td>\n",
       "      <td>with mileage</td>\n",
       "      <td>97183.0</td>\n",
       "      <td>diesel</td>\n",
       "      <td>1400.0</td>\n",
       "      <td>gray</td>\n",
       "      <td>mechanics</td>\n",
       "      <td>front-wheel drive</td>\n",
       "      <td>B</td>\n",
       "    </tr>\n",
       "    <tr>\n",
       "      <th>...</th>\n",
       "      <td>...</td>\n",
       "      <td>...</td>\n",
       "      <td>...</td>\n",
       "      <td>...</td>\n",
       "      <td>...</td>\n",
       "      <td>...</td>\n",
       "      <td>...</td>\n",
       "      <td>...</td>\n",
       "      <td>...</td>\n",
       "      <td>...</td>\n",
       "      <td>...</td>\n",
       "      <td>...</td>\n",
       "    </tr>\n",
       "    <tr>\n",
       "      <th>56239</th>\n",
       "      <td>lancia</td>\n",
       "      <td>zeta</td>\n",
       "      <td>3650</td>\n",
       "      <td>2000</td>\n",
       "      <td>with mileage</td>\n",
       "      <td>290000.0</td>\n",
       "      <td>petrol</td>\n",
       "      <td>2000.0</td>\n",
       "      <td>other</td>\n",
       "      <td>mechanics</td>\n",
       "      <td>front-wheel drive</td>\n",
       "      <td>M</td>\n",
       "    </tr>\n",
       "    <tr>\n",
       "      <th>56240</th>\n",
       "      <td>lancia</td>\n",
       "      <td>zeta</td>\n",
       "      <td>4100</td>\n",
       "      <td>1999</td>\n",
       "      <td>with mileage</td>\n",
       "      <td>340000.0</td>\n",
       "      <td>diesel</td>\n",
       "      <td>2100.0</td>\n",
       "      <td>blue</td>\n",
       "      <td>mechanics</td>\n",
       "      <td>front-wheel drive</td>\n",
       "      <td>M</td>\n",
       "    </tr>\n",
       "    <tr>\n",
       "      <th>56241</th>\n",
       "      <td>lancia</td>\n",
       "      <td>zeta</td>\n",
       "      <td>3600</td>\n",
       "      <td>1997</td>\n",
       "      <td>with mileage</td>\n",
       "      <td>354000.0</td>\n",
       "      <td>diesel</td>\n",
       "      <td>2100.0</td>\n",
       "      <td>burgundy</td>\n",
       "      <td>mechanics</td>\n",
       "      <td>front-wheel drive</td>\n",
       "      <td>M</td>\n",
       "    </tr>\n",
       "    <tr>\n",
       "      <th>56242</th>\n",
       "      <td>lancia</td>\n",
       "      <td>zeta</td>\n",
       "      <td>3000</td>\n",
       "      <td>1997</td>\n",
       "      <td>with mileage</td>\n",
       "      <td>350000.0</td>\n",
       "      <td>petrol</td>\n",
       "      <td>2000.0</td>\n",
       "      <td>blue</td>\n",
       "      <td>mechanics</td>\n",
       "      <td>front-wheel drive</td>\n",
       "      <td>M</td>\n",
       "    </tr>\n",
       "    <tr>\n",
       "      <th>56243</th>\n",
       "      <td>lancia</td>\n",
       "      <td>zeta</td>\n",
       "      <td>2950</td>\n",
       "      <td>1996</td>\n",
       "      <td>with mileage</td>\n",
       "      <td>3.0</td>\n",
       "      <td>petrol</td>\n",
       "      <td>2000.0</td>\n",
       "      <td>burgundy</td>\n",
       "      <td>mechanics</td>\n",
       "      <td>front-wheel drive</td>\n",
       "      <td>M</td>\n",
       "    </tr>\n",
       "  </tbody>\n",
       "</table>\n",
       "<p>56244 rows × 12 columns</p>\n",
       "</div>"
      ],
      "text/plain": [
       "         make model  priceUSD  year     condition  mileage(kilometers)  \\\n",
       "0       mazda     2      5500  2008  with mileage             162000.0   \n",
       "1       mazda     2      5350  2009  with mileage             120000.0   \n",
       "2       mazda     2      7000  2009  with mileage              61000.0   \n",
       "3       mazda     2      3300  2003  with mileage             265000.0   \n",
       "4       mazda     2      5200  2008  with mileage              97183.0   \n",
       "...       ...   ...       ...   ...           ...                  ...   \n",
       "56239  lancia  zeta      3650  2000  with mileage             290000.0   \n",
       "56240  lancia  zeta      4100  1999  with mileage             340000.0   \n",
       "56241  lancia  zeta      3600  1997  with mileage             354000.0   \n",
       "56242  lancia  zeta      3000  1997  with mileage             350000.0   \n",
       "56243  lancia  zeta      2950  1996  with mileage                  3.0   \n",
       "\n",
       "      fuel_type  volume(cm3)     color transmission         drive_unit segment  \n",
       "0        petrol       1500.0  burgundy    mechanics  front-wheel drive       B  \n",
       "1        petrol       1300.0     black    mechanics  front-wheel drive       B  \n",
       "2        petrol       1500.0    silver         auto  front-wheel drive       B  \n",
       "3        diesel       1400.0     white    mechanics  front-wheel drive       B  \n",
       "4        diesel       1400.0      gray    mechanics  front-wheel drive       B  \n",
       "...         ...          ...       ...          ...                ...     ...  \n",
       "56239    petrol       2000.0     other    mechanics  front-wheel drive       M  \n",
       "56240    diesel       2100.0      blue    mechanics  front-wheel drive       M  \n",
       "56241    diesel       2100.0  burgundy    mechanics  front-wheel drive       M  \n",
       "56242    petrol       2000.0      blue    mechanics  front-wheel drive       M  \n",
       "56243    petrol       2000.0  burgundy    mechanics  front-wheel drive       M  \n",
       "\n",
       "[56244 rows x 12 columns]"
      ]
     },
     "execution_count": 9,
     "metadata": {},
     "output_type": "execute_result"
    }
   ],
   "source": [
    "data"
   ]
  },
  {
   "cell_type": "code",
   "execution_count": 10,
   "id": "b7dcc0ae-018e-418d-8602-49f9d2e3ad30",
   "metadata": {
    "tags": []
   },
   "outputs": [
    {
     "data": {
      "text/plain": [
       "<bound method NDFrame.describe of          make model  priceUSD  year     condition  mileage(kilometers)  \\\n",
       "0       mazda     2      5500  2008  with mileage             162000.0   \n",
       "1       mazda     2      5350  2009  with mileage             120000.0   \n",
       "2       mazda     2      7000  2009  with mileage              61000.0   \n",
       "3       mazda     2      3300  2003  with mileage             265000.0   \n",
       "4       mazda     2      5200  2008  with mileage              97183.0   \n",
       "...       ...   ...       ...   ...           ...                  ...   \n",
       "56239  lancia  zeta      3650  2000  with mileage             290000.0   \n",
       "56240  lancia  zeta      4100  1999  with mileage             340000.0   \n",
       "56241  lancia  zeta      3600  1997  with mileage             354000.0   \n",
       "56242  lancia  zeta      3000  1997  with mileage             350000.0   \n",
       "56243  lancia  zeta      2950  1996  with mileage                  3.0   \n",
       "\n",
       "      fuel_type  volume(cm3)     color transmission         drive_unit segment  \n",
       "0        petrol       1500.0  burgundy    mechanics  front-wheel drive       B  \n",
       "1        petrol       1300.0     black    mechanics  front-wheel drive       B  \n",
       "2        petrol       1500.0    silver         auto  front-wheel drive       B  \n",
       "3        diesel       1400.0     white    mechanics  front-wheel drive       B  \n",
       "4        diesel       1400.0      gray    mechanics  front-wheel drive       B  \n",
       "...         ...          ...       ...          ...                ...     ...  \n",
       "56239    petrol       2000.0     other    mechanics  front-wheel drive       M  \n",
       "56240    diesel       2100.0      blue    mechanics  front-wheel drive       M  \n",
       "56241    diesel       2100.0  burgundy    mechanics  front-wheel drive       M  \n",
       "56242    petrol       2000.0      blue    mechanics  front-wheel drive       M  \n",
       "56243    petrol       2000.0  burgundy    mechanics  front-wheel drive       M  \n",
       "\n",
       "[56244 rows x 12 columns]>"
      ]
     },
     "execution_count": 10,
     "metadata": {},
     "output_type": "execute_result"
    }
   ],
   "source": [
    "# Exploración de los datos\n",
    "data.columns\n",
    "data.info\n",
    "data.describe"
   ]
  },
  {
   "cell_type": "code",
   "execution_count": 11,
   "id": "56b01e45-097d-48db-818d-5bd0f57055fc",
   "metadata": {
    "tags": []
   },
   "outputs": [
    {
     "data": {
      "image/png": "[encoded data removed]",
      "text/plain": [
       "<Figure size 640x480 with 1 Axes>"
      ]
     },
     "metadata": {},
     "output_type": "display_data"
    }
   ],
   "source": [
    "data.plot.scatter(x=\"year\", y=\"priceUSD\")\n",
    "plt.show()"
   ]
  },
  {
   "cell_type": "code",
   "execution_count": 12,
   "id": "c0d69be8-ab40-4e40-90ca-37723803f70c",
   "metadata": {
    "tags": []
   },
   "outputs": [],
   "source": [
    "# Ejemplo Regresión Lineal\n",
    " \n",
    "regresion = linear_model.LinearRegression()"
   ]
  },
  {
   "cell_type": "code",
   "execution_count": 13,
   "id": "75f4f656-d854-4606-8dae-e782736d16c3",
   "metadata": {
    "tags": []
   },
   "outputs": [],
   "source": [
    "#Agrego los datos en un array o vector\n",
    "years = data[\"year\"].values.reshape((-1,1))"
   ]
  },
  {
   "cell_type": "code",
   "execution_count": 14,
   "id": "0d12f5de-8a32-49f9-a7dc-99178a2a3d98",
   "metadata": {
    "tags": []
   },
   "outputs": [
    {
     "name": "stdout",
     "output_type": "stream",
     "text": [
      "Interseccion (b) -1230646.5307858852\n",
      "Pendiente (m) [617.9635112]\n"
     ]
    }
   ],
   "source": [
    "modelo = regresion.fit(years, data[\"priceUSD\"])\n",
    "\n",
    "print(\"Interseccion (b)\", modelo.intercept_)\n",
    "#imprimos la pendiente\n",
    "print(\"Pendiente (m)\", modelo.coef_)"
   ]
  },
  {
   "cell_type": "code",
   "execution_count": 15,
   "id": "a72ccd74-8811-48b0-9e3c-4ed6cf26468b",
   "metadata": {
    "tags": []
   },
   "outputs": [
    {
     "name": "stdout",
     "output_type": "stream",
     "text": [
      "[-7078.77861093  -899.14349894  5280.49161306 11460.12672505]\n"
     ]
    }
   ],
   "source": [
    "entrada= [[1980],[1990],[2000],[2010]]\n",
    "predicciones = modelo.predict(entrada)\n",
    "print(predicciones)"
   ]
  },
  {
   "cell_type": "code",
   "execution_count": 16,
   "id": "3178171d-4a2e-4558-baf8-fb0664eb1f25",
   "metadata": {
    "tags": []
   },
   "outputs": [
    {
     "data": {
      "image/png": "[encoded data removed]",
      "text/plain": [
       "<Figure size 640x480 with 1 Axes>"
      ]
     },
     "metadata": {},
     "output_type": "display_data"
    }
   ],
   "source": [
    "data.plot.scatter(x=\"year\", y=\"priceUSD\", label='Datos originales')\n",
    "plt.scatter(entrada, predicciones, color='red')\n",
    "plt.plot(entrada, predicciones, color='black', label='Línea de regresión')\n",
    "plt.xlabel('year')\n",
    "plt.ylabel('priceUSD')\n",
    "plt.legend()\n",
    "plt.show()"
   ]
  },
  {
   "cell_type": "code",
   "execution_count": null,
   "id": "89a5df01-62b2-444d-be9b-f074b4fd8b98",
   "metadata": {},
   "outputs": [],
   "source": []
  }
 ],
 "metadata": {
  "kernelspec": {
   "display_name": "Python 3 (ipykernel)",
   "language": "python",
   "name": "python3"
  },
  "language_info": {
   "codemirror_mode": {
    "name": "ipython",
    "version": 3
   },
   "file_extension": ".py",
   "mimetype": "text/x-python",
   "name": "python",
   "nbconvert_exporter": "python",
   "pygments_lexer": "ipython3",
   "version": "3.11.4"
  }
 },
 "nbformat": 4,
 "nbformat_minor": 5
}
