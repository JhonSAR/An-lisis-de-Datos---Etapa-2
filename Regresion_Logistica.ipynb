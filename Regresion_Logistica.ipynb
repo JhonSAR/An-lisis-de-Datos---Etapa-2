{
 "cells": [
  {
   "cell_type": "code",
   "execution_count": 1,
   "id": "b474eb1c-e1e1-4dc0-8836-9b0616897faf",
   "metadata": {
    "tags": []
   },
   "outputs": [],
   "source": [
    "import matplotlib.pyplot as plt\n",
    "from sklearn import linear_model # usando sklear para saber los valores optimos\n",
    "import seaborn as sns\n",
    "import numpy as np\n",
    "import pandas as pd"
   ]
  },
  {
   "cell_type": "code",
   "execution_count": 2,
   "id": "c9164f57-02f4-451f-b57c-865e88a633a0",
   "metadata": {
    "tags": []
   },
   "outputs": [],
   "source": [
    "data = pd.read_csv(r\"C:\\Users\\orion\\OneDrive\\framingham.csv\", sep=\",\")"
   ]
  },
  {
   "cell_type": "code",
   "execution_count": 3,
   "id": "929ed707-d680-4450-8a8b-73b474798e1c",
   "metadata": {
    "tags": []
   },
   "outputs": [
    {
     "data": {
      "text/html": [
       "<div>\n",
       "<style scoped>\n",
       "    .dataframe tbody tr th:only-of-type {\n",
       "        vertical-align: middle;\n",
       "    }\n",
       "\n",
       "    .dataframe tbody tr th {\n",
       "        vertical-align: top;\n",
       "    }\n",
       "\n",
       "    .dataframe thead th {\n",
       "        text-align: right;\n",
       "    }\n",
       "</style>\n",
       "<table border=\"1\" class=\"dataframe\">\n",
       "  <thead>\n",
       "    <tr style=\"text-align: right;\">\n",
       "      <th></th>\n",
       "      <th>male</th>\n",
       "      <th>age</th>\n",
       "      <th>education</th>\n",
       "      <th>currentSmoker</th>\n",
       "      <th>cigsPerDay</th>\n",
       "      <th>BPMeds</th>\n",
       "      <th>prevalentStroke</th>\n",
       "      <th>prevalentHyp</th>\n",
       "      <th>diabetes</th>\n",
       "      <th>totChol</th>\n",
       "      <th>sysBP</th>\n",
       "      <th>diaBP</th>\n",
       "      <th>BMI</th>\n",
       "      <th>heartRate</th>\n",
       "      <th>glucose</th>\n",
       "      <th>TenYearCHD</th>\n",
       "    </tr>\n",
       "  </thead>\n",
       "  <tbody>\n",
       "    <tr>\n",
       "      <th>0</th>\n",
       "      <td>1</td>\n",
       "      <td>39</td>\n",
       "      <td>4.0</td>\n",
       "      <td>0</td>\n",
       "      <td>0.0</td>\n",
       "      <td>0.0</td>\n",
       "      <td>0</td>\n",
       "      <td>0</td>\n",
       "      <td>0</td>\n",
       "      <td>195.0</td>\n",
       "      <td>106.0</td>\n",
       "      <td>70.0</td>\n",
       "      <td>26.97</td>\n",
       "      <td>80.0</td>\n",
       "      <td>77.0</td>\n",
       "      <td>0</td>\n",
       "    </tr>\n",
       "    <tr>\n",
       "      <th>1</th>\n",
       "      <td>0</td>\n",
       "      <td>46</td>\n",
       "      <td>2.0</td>\n",
       "      <td>0</td>\n",
       "      <td>0.0</td>\n",
       "      <td>0.0</td>\n",
       "      <td>0</td>\n",
       "      <td>0</td>\n",
       "      <td>0</td>\n",
       "      <td>250.0</td>\n",
       "      <td>121.0</td>\n",
       "      <td>81.0</td>\n",
       "      <td>28.73</td>\n",
       "      <td>95.0</td>\n",
       "      <td>76.0</td>\n",
       "      <td>0</td>\n",
       "    </tr>\n",
       "    <tr>\n",
       "      <th>2</th>\n",
       "      <td>1</td>\n",
       "      <td>48</td>\n",
       "      <td>1.0</td>\n",
       "      <td>1</td>\n",
       "      <td>20.0</td>\n",
       "      <td>0.0</td>\n",
       "      <td>0</td>\n",
       "      <td>0</td>\n",
       "      <td>0</td>\n",
       "      <td>245.0</td>\n",
       "      <td>127.5</td>\n",
       "      <td>80.0</td>\n",
       "      <td>25.34</td>\n",
       "      <td>75.0</td>\n",
       "      <td>70.0</td>\n",
       "      <td>0</td>\n",
       "    </tr>\n",
       "    <tr>\n",
       "      <th>3</th>\n",
       "      <td>0</td>\n",
       "      <td>61</td>\n",
       "      <td>3.0</td>\n",
       "      <td>1</td>\n",
       "      <td>30.0</td>\n",
       "      <td>0.0</td>\n",
       "      <td>0</td>\n",
       "      <td>1</td>\n",
       "      <td>0</td>\n",
       "      <td>225.0</td>\n",
       "      <td>150.0</td>\n",
       "      <td>95.0</td>\n",
       "      <td>28.58</td>\n",
       "      <td>65.0</td>\n",
       "      <td>103.0</td>\n",
       "      <td>1</td>\n",
       "    </tr>\n",
       "    <tr>\n",
       "      <th>4</th>\n",
       "      <td>0</td>\n",
       "      <td>46</td>\n",
       "      <td>3.0</td>\n",
       "      <td>1</td>\n",
       "      <td>23.0</td>\n",
       "      <td>0.0</td>\n",
       "      <td>0</td>\n",
       "      <td>0</td>\n",
       "      <td>0</td>\n",
       "      <td>285.0</td>\n",
       "      <td>130.0</td>\n",
       "      <td>84.0</td>\n",
       "      <td>23.10</td>\n",
       "      <td>85.0</td>\n",
       "      <td>85.0</td>\n",
       "      <td>0</td>\n",
       "    </tr>\n",
       "    <tr>\n",
       "      <th>...</th>\n",
       "      <td>...</td>\n",
       "      <td>...</td>\n",
       "      <td>...</td>\n",
       "      <td>...</td>\n",
       "      <td>...</td>\n",
       "      <td>...</td>\n",
       "      <td>...</td>\n",
       "      <td>...</td>\n",
       "      <td>...</td>\n",
       "      <td>...</td>\n",
       "      <td>...</td>\n",
       "      <td>...</td>\n",
       "      <td>...</td>\n",
       "      <td>...</td>\n",
       "      <td>...</td>\n",
       "      <td>...</td>\n",
       "    </tr>\n",
       "    <tr>\n",
       "      <th>4233</th>\n",
       "      <td>1</td>\n",
       "      <td>50</td>\n",
       "      <td>1.0</td>\n",
       "      <td>1</td>\n",
       "      <td>1.0</td>\n",
       "      <td>0.0</td>\n",
       "      <td>0</td>\n",
       "      <td>1</td>\n",
       "      <td>0</td>\n",
       "      <td>313.0</td>\n",
       "      <td>179.0</td>\n",
       "      <td>92.0</td>\n",
       "      <td>25.97</td>\n",
       "      <td>66.0</td>\n",
       "      <td>86.0</td>\n",
       "      <td>1</td>\n",
       "    </tr>\n",
       "    <tr>\n",
       "      <th>4234</th>\n",
       "      <td>1</td>\n",
       "      <td>51</td>\n",
       "      <td>3.0</td>\n",
       "      <td>1</td>\n",
       "      <td>43.0</td>\n",
       "      <td>0.0</td>\n",
       "      <td>0</td>\n",
       "      <td>0</td>\n",
       "      <td>0</td>\n",
       "      <td>207.0</td>\n",
       "      <td>126.5</td>\n",
       "      <td>80.0</td>\n",
       "      <td>19.71</td>\n",
       "      <td>65.0</td>\n",
       "      <td>68.0</td>\n",
       "      <td>0</td>\n",
       "    </tr>\n",
       "    <tr>\n",
       "      <th>4235</th>\n",
       "      <td>0</td>\n",
       "      <td>48</td>\n",
       "      <td>2.0</td>\n",
       "      <td>1</td>\n",
       "      <td>20.0</td>\n",
       "      <td>NaN</td>\n",
       "      <td>0</td>\n",
       "      <td>0</td>\n",
       "      <td>0</td>\n",
       "      <td>248.0</td>\n",
       "      <td>131.0</td>\n",
       "      <td>72.0</td>\n",
       "      <td>22.00</td>\n",
       "      <td>84.0</td>\n",
       "      <td>86.0</td>\n",
       "      <td>0</td>\n",
       "    </tr>\n",
       "    <tr>\n",
       "      <th>4236</th>\n",
       "      <td>0</td>\n",
       "      <td>44</td>\n",
       "      <td>1.0</td>\n",
       "      <td>1</td>\n",
       "      <td>15.0</td>\n",
       "      <td>0.0</td>\n",
       "      <td>0</td>\n",
       "      <td>0</td>\n",
       "      <td>0</td>\n",
       "      <td>210.0</td>\n",
       "      <td>126.5</td>\n",
       "      <td>87.0</td>\n",
       "      <td>19.16</td>\n",
       "      <td>86.0</td>\n",
       "      <td>NaN</td>\n",
       "      <td>0</td>\n",
       "    </tr>\n",
       "    <tr>\n",
       "      <th>4237</th>\n",
       "      <td>0</td>\n",
       "      <td>52</td>\n",
       "      <td>2.0</td>\n",
       "      <td>0</td>\n",
       "      <td>0.0</td>\n",
       "      <td>0.0</td>\n",
       "      <td>0</td>\n",
       "      <td>0</td>\n",
       "      <td>0</td>\n",
       "      <td>269.0</td>\n",
       "      <td>133.5</td>\n",
       "      <td>83.0</td>\n",
       "      <td>21.47</td>\n",
       "      <td>80.0</td>\n",
       "      <td>107.0</td>\n",
       "      <td>0</td>\n",
       "    </tr>\n",
       "  </tbody>\n",
       "</table>\n",
       "<p>4238 rows × 16 columns</p>\n",
       "</div>"
      ],
      "text/plain": [
       "      male  age  education  currentSmoker  cigsPerDay  BPMeds  \\\n",
       "0        1   39        4.0              0         0.0     0.0   \n",
       "1        0   46        2.0              0         0.0     0.0   \n",
       "2        1   48        1.0              1        20.0     0.0   \n",
       "3        0   61        3.0              1        30.0     0.0   \n",
       "4        0   46        3.0              1        23.0     0.0   \n",
       "...    ...  ...        ...            ...         ...     ...   \n",
       "4233     1   50        1.0              1         1.0     0.0   \n",
       "4234     1   51        3.0              1        43.0     0.0   \n",
       "4235     0   48        2.0              1        20.0     NaN   \n",
       "4236     0   44        1.0              1        15.0     0.0   \n",
       "4237     0   52        2.0              0         0.0     0.0   \n",
       "\n",
       "      prevalentStroke  prevalentHyp  diabetes  totChol  sysBP  diaBP    BMI  \\\n",
       "0                   0             0         0    195.0  106.0   70.0  26.97   \n",
       "1                   0             0         0    250.0  121.0   81.0  28.73   \n",
       "2                   0             0         0    245.0  127.5   80.0  25.34   \n",
       "3                   0             1         0    225.0  150.0   95.0  28.58   \n",
       "4                   0             0         0    285.0  130.0   84.0  23.10   \n",
       "...               ...           ...       ...      ...    ...    ...    ...   \n",
       "4233                0             1         0    313.0  179.0   92.0  25.97   \n",
       "4234                0             0         0    207.0  126.5   80.0  19.71   \n",
       "4235                0             0         0    248.0  131.0   72.0  22.00   \n",
       "4236                0             0         0    210.0  126.5   87.0  19.16   \n",
       "4237                0             0         0    269.0  133.5   83.0  21.47   \n",
       "\n",
       "      heartRate  glucose  TenYearCHD  \n",
       "0          80.0     77.0           0  \n",
       "1          95.0     76.0           0  \n",
       "2          75.0     70.0           0  \n",
       "3          65.0    103.0           1  \n",
       "4          85.0     85.0           0  \n",
       "...         ...      ...         ...  \n",
       "4233       66.0     86.0           1  \n",
       "4234       65.0     68.0           0  \n",
       "4235       84.0     86.0           0  \n",
       "4236       86.0      NaN           0  \n",
       "4237       80.0    107.0           0  \n",
       "\n",
       "[4238 rows x 16 columns]"
      ]
     },
     "execution_count": 3,
     "metadata": {},
     "output_type": "execute_result"
    }
   ],
   "source": [
    "data"
   ]
  },
  {
   "cell_type": "code",
   "execution_count": 4,
   "id": "1566ef3e-dfa7-40a4-ac31-d64af1ac6538",
   "metadata": {
    "tags": []
   },
   "outputs": [
    {
     "data": {
      "text/html": [
       "<div>\n",
       "<style scoped>\n",
       "    .dataframe tbody tr th:only-of-type {\n",
       "        vertical-align: middle;\n",
       "    }\n",
       "\n",
       "    .dataframe tbody tr th {\n",
       "        vertical-align: top;\n",
       "    }\n",
       "\n",
       "    .dataframe thead th {\n",
       "        text-align: right;\n",
       "    }\n",
       "</style>\n",
       "<table border=\"1\" class=\"dataframe\">\n",
       "  <thead>\n",
       "    <tr style=\"text-align: right;\">\n",
       "      <th></th>\n",
       "      <th>BMI</th>\n",
       "      <th>glucose</th>\n",
       "    </tr>\n",
       "  </thead>\n",
       "  <tbody>\n",
       "    <tr>\n",
       "      <th>0</th>\n",
       "      <td>26.97</td>\n",
       "      <td>77.0</td>\n",
       "    </tr>\n",
       "    <tr>\n",
       "      <th>1</th>\n",
       "      <td>28.73</td>\n",
       "      <td>76.0</td>\n",
       "    </tr>\n",
       "    <tr>\n",
       "      <th>2</th>\n",
       "      <td>25.34</td>\n",
       "      <td>70.0</td>\n",
       "    </tr>\n",
       "    <tr>\n",
       "      <th>3</th>\n",
       "      <td>28.58</td>\n",
       "      <td>103.0</td>\n",
       "    </tr>\n",
       "    <tr>\n",
       "      <th>4</th>\n",
       "      <td>23.10</td>\n",
       "      <td>85.0</td>\n",
       "    </tr>\n",
       "  </tbody>\n",
       "</table>\n",
       "</div>"
      ],
      "text/plain": [
       "     BMI  glucose\n",
       "0  26.97     77.0\n",
       "1  28.73     76.0\n",
       "2  25.34     70.0\n",
       "3  28.58    103.0\n",
       "4  23.10     85.0"
      ]
     },
     "execution_count": 4,
     "metadata": {},
     "output_type": "execute_result"
    }
   ],
   "source": [
    "data[['BMI','glucose']].head()"
   ]
  },
  {
   "cell_type": "code",
   "execution_count": 6,
   "id": "0efc4303-9df9-4e49-93ad-dd549ba38e1b",
   "metadata": {
    "tags": []
   },
   "outputs": [
    {
     "data": {
      "text/plain": [
       "<Axes: xlabel='BMI', ylabel='glucose'>"
      ]
     },
     "execution_count": 6,
     "metadata": {},
     "output_type": "execute_result"
    },
    {
     "data": {
      "image/png": "[encoded data removed]",
      "text/plain": [
       "<Figure size 640x480 with 1 Axes>"
      ]
     },
     "metadata": {},
     "output_type": "display_data"
    }
   ],
   "source": [
    "data[['BMI','glucose']].plot.scatter(x='BMI',y='glucose')"
   ]
  },
  {
   "cell_type": "code",
   "execution_count": 13,
   "id": "4f16e47d-d1ed-4401-85d7-96956613a2cc",
   "metadata": {
    "tags": []
   },
   "outputs": [],
   "source": [
    "w = -3.5\n",
    "b = 5.1"
   ]
  },
  {
   "cell_type": "code",
   "execution_count": 14,
   "id": "af57f9fd-e2f5-4f07-b08e-526225b0b066",
   "metadata": {
    "tags": []
   },
   "outputs": [
    {
     "data": {
      "image/png": "[encoded data removed]",
      "text/plain": [
       "<Figure size 640x480 with 1 Axes>"
      ]
     },
     "metadata": {},
     "output_type": "display_data"
    }
   ],
   "source": [
    "x = np.linspace(0,data['BMI'].max(),100)\n",
    "y = 1/(1+np.exp(-(w*x+b)))\n",
    "\n",
    "# grafica de la recta\n",
    "data.plot.scatter(x='BMI',y='glucose')\n",
    "plt.plot(x, y, '-r')\n",
    "plt.ylim(0,data['glucose'].max()*1.1)\n",
    "# plt.grid()\n",
    "plt.show()"
   ]
  },
  {
   "cell_type": "code",
   "execution_count": 15,
   "id": "e035dfb4-a76f-4f6e-8850-76408c217775",
   "metadata": {
    "tags": []
   },
   "outputs": [
    {
     "data": {
      "text/plain": [
       "7013.39061261731"
      ]
     },
     "execution_count": 15,
     "metadata": {},
     "output_type": "execute_result"
    }
   ],
   "source": [
    "data['sigmoid'] = 1/(1+np.exp(-(data['BMI']*w+b)))\n",
    "\n",
    "# calculo de la funcion de error\n",
    "data['loss_xi'] = -data['glucose']*np.log(data['sigmoid'])-(1-data['glucose'])*np.log(1-data['sigmoid'])\n",
    "cost_j = data['loss_xi'].mean()\n",
    "cost_j"
   ]
  },
  {
   "cell_type": "code",
   "execution_count": 24,
   "id": "e3e7727a-e336-4fc8-9cd6-669d2567178e",
   "metadata": {
    "tags": []
   },
   "outputs": [],
   "source": [
    "array = np.mgrid[0.04:0.12:0.01, -2:-1:0.01].reshape(2,-1).T\n",
    "df = pd.DataFrame(data = array, \n",
    "                  columns = ['w','b'])\n",
    "\n",
    "# round para solventar problema con muchos decimales\n",
    "df['w'] = np.round(df['w'], 6)\n",
    "df['b'] = np.round(df['b'], 6)"
   ]
  },
  {
   "cell_type": "code",
   "execution_count": 25,
   "id": "c4caffbb-6816-41fb-b8e4-70e53fbd7145",
   "metadata": {
    "tags": []
   },
   "outputs": [
    {
     "data": {
      "text/html": [
       "<div>\n",
       "<style scoped>\n",
       "    .dataframe tbody tr th:only-of-type {\n",
       "        vertical-align: middle;\n",
       "    }\n",
       "\n",
       "    .dataframe tbody tr th {\n",
       "        vertical-align: top;\n",
       "    }\n",
       "\n",
       "    .dataframe thead th {\n",
       "        text-align: right;\n",
       "    }\n",
       "</style>\n",
       "<table border=\"1\" class=\"dataframe\">\n",
       "  <thead>\n",
       "    <tr style=\"text-align: right;\">\n",
       "      <th></th>\n",
       "      <th>w</th>\n",
       "      <th>b</th>\n",
       "    </tr>\n",
       "  </thead>\n",
       "  <tbody>\n",
       "    <tr>\n",
       "      <th>0</th>\n",
       "      <td>0.04</td>\n",
       "      <td>-2.00</td>\n",
       "    </tr>\n",
       "    <tr>\n",
       "      <th>1</th>\n",
       "      <td>0.04</td>\n",
       "      <td>-1.99</td>\n",
       "    </tr>\n",
       "    <tr>\n",
       "      <th>2</th>\n",
       "      <td>0.04</td>\n",
       "      <td>-1.98</td>\n",
       "    </tr>\n",
       "    <tr>\n",
       "      <th>3</th>\n",
       "      <td>0.04</td>\n",
       "      <td>-1.97</td>\n",
       "    </tr>\n",
       "    <tr>\n",
       "      <th>4</th>\n",
       "      <td>0.04</td>\n",
       "      <td>-1.96</td>\n",
       "    </tr>\n",
       "    <tr>\n",
       "      <th>...</th>\n",
       "      <td>...</td>\n",
       "      <td>...</td>\n",
       "    </tr>\n",
       "    <tr>\n",
       "      <th>795</th>\n",
       "      <td>0.11</td>\n",
       "      <td>-1.05</td>\n",
       "    </tr>\n",
       "    <tr>\n",
       "      <th>796</th>\n",
       "      <td>0.11</td>\n",
       "      <td>-1.04</td>\n",
       "    </tr>\n",
       "    <tr>\n",
       "      <th>797</th>\n",
       "      <td>0.11</td>\n",
       "      <td>-1.03</td>\n",
       "    </tr>\n",
       "    <tr>\n",
       "      <th>798</th>\n",
       "      <td>0.11</td>\n",
       "      <td>-1.02</td>\n",
       "    </tr>\n",
       "    <tr>\n",
       "      <th>799</th>\n",
       "      <td>0.11</td>\n",
       "      <td>-1.01</td>\n",
       "    </tr>\n",
       "  </tbody>\n",
       "</table>\n",
       "<p>800 rows × 2 columns</p>\n",
       "</div>"
      ],
      "text/plain": [
       "        w     b\n",
       "0    0.04 -2.00\n",
       "1    0.04 -1.99\n",
       "2    0.04 -1.98\n",
       "3    0.04 -1.97\n",
       "4    0.04 -1.96\n",
       "..    ...   ...\n",
       "795  0.11 -1.05\n",
       "796  0.11 -1.04\n",
       "797  0.11 -1.03\n",
       "798  0.11 -1.02\n",
       "799  0.11 -1.01\n",
       "\n",
       "[800 rows x 2 columns]"
      ]
     },
     "execution_count": 25,
     "metadata": {},
     "output_type": "execute_result"
    }
   ],
   "source": [
    "df"
   ]
  },
  {
   "cell_type": "code",
   "execution_count": 26,
   "id": "062a2c71-e207-4515-aae9-97a93c47f92c",
   "metadata": {
    "tags": []
   },
   "outputs": [],
   "source": [
    "def sum_error_df(df):\n",
    "    data['sigmoid'] = 1/(1+np.exp(-(data['BMI']*df['w']+df['b'])))\n",
    "    data['loss_xi'] = -data['glucose']*np.log(data['sigmoid'])-(1-data['glucose'])*np.log(1-data['sigmoid'])\n",
    "    j_cost = data['loss_xi'].mean()\n",
    "    return(j_cost)"
   ]
  },
  {
   "cell_type": "code",
   "execution_count": 27,
   "id": "8bd6d4c5-b713-4590-a8ed-2eb30d43480f",
   "metadata": {
    "tags": []
   },
   "outputs": [],
   "source": [
    "df['error'] = df.apply(sum_error_df, axis=1)"
   ]
  },
  {
   "cell_type": "code",
   "execution_count": 28,
   "id": "2226887a-1356-4581-ad84-480e8d8d20f3",
   "metadata": {
    "tags": []
   },
   "outputs": [
    {
     "data": {
      "text/html": [
       "<div>\n",
       "<style scoped>\n",
       "    .dataframe tbody tr th:only-of-type {\n",
       "        vertical-align: middle;\n",
       "    }\n",
       "\n",
       "    .dataframe tbody tr th {\n",
       "        vertical-align: top;\n",
       "    }\n",
       "\n",
       "    .dataframe thead th {\n",
       "        text-align: right;\n",
       "    }\n",
       "</style>\n",
       "<table border=\"1\" class=\"dataframe\">\n",
       "  <thead>\n",
       "    <tr style=\"text-align: right;\">\n",
       "      <th></th>\n",
       "      <th>w</th>\n",
       "      <th>b</th>\n",
       "      <th>error</th>\n",
       "    </tr>\n",
       "  </thead>\n",
       "  <tbody>\n",
       "    <tr>\n",
       "      <th>799</th>\n",
       "      <td>0.11</td>\n",
       "      <td>-1.01</td>\n",
       "      <td>-148.810169</td>\n",
       "    </tr>\n",
       "    <tr>\n",
       "      <th>798</th>\n",
       "      <td>0.11</td>\n",
       "      <td>-1.02</td>\n",
       "      <td>-147.999347</td>\n",
       "    </tr>\n",
       "    <tr>\n",
       "      <th>797</th>\n",
       "      <td>0.11</td>\n",
       "      <td>-1.03</td>\n",
       "      <td>-147.188512</td>\n",
       "    </tr>\n",
       "    <tr>\n",
       "      <th>796</th>\n",
       "      <td>0.11</td>\n",
       "      <td>-1.04</td>\n",
       "      <td>-146.377664</td>\n",
       "    </tr>\n",
       "    <tr>\n",
       "      <th>795</th>\n",
       "      <td>0.11</td>\n",
       "      <td>-1.05</td>\n",
       "      <td>-145.566804</td>\n",
       "    </tr>\n",
       "  </tbody>\n",
       "</table>\n",
       "</div>"
      ],
      "text/plain": [
       "        w     b       error\n",
       "799  0.11 -1.01 -148.810169\n",
       "798  0.11 -1.02 -147.999347\n",
       "797  0.11 -1.03 -147.188512\n",
       "796  0.11 -1.04 -146.377664\n",
       "795  0.11 -1.05 -145.566804"
      ]
     },
     "execution_count": 28,
     "metadata": {},
     "output_type": "execute_result"
    }
   ],
   "source": [
    "df.sort_values(by=['error']).head()"
   ]
  },
  {
   "cell_type": "code",
   "execution_count": 29,
   "id": "94fc4b79-69f7-4f19-aa3a-b2781f364eeb",
   "metadata": {
    "tags": []
   },
   "outputs": [],
   "source": [
    "df_3d = df.pivot(index='w', columns='b', values='error')"
   ]
  },
  {
   "cell_type": "code",
   "execution_count": 30,
   "id": "53d15751-fbbf-40be-a302-4121a0066ac8",
   "metadata": {
    "tags": []
   },
   "outputs": [
    {
     "data": {
      "text/html": [
       "<div>\n",
       "<style scoped>\n",
       "    .dataframe tbody tr th:only-of-type {\n",
       "        vertical-align: middle;\n",
       "    }\n",
       "\n",
       "    .dataframe tbody tr th {\n",
       "        vertical-align: top;\n",
       "    }\n",
       "\n",
       "    .dataframe thead th {\n",
       "        text-align: right;\n",
       "    }\n",
       "</style>\n",
       "<table border=\"1\" class=\"dataframe\">\n",
       "  <thead>\n",
       "    <tr style=\"text-align: right;\">\n",
       "      <th>b</th>\n",
       "      <th>-2.00</th>\n",
       "      <th>-1.99</th>\n",
       "      <th>-1.98</th>\n",
       "      <th>-1.97</th>\n",
       "      <th>-1.96</th>\n",
       "      <th>-1.95</th>\n",
       "      <th>-1.94</th>\n",
       "      <th>-1.93</th>\n",
       "      <th>-1.92</th>\n",
       "      <th>-1.91</th>\n",
       "      <th>...</th>\n",
       "      <th>-1.10</th>\n",
       "      <th>-1.09</th>\n",
       "      <th>-1.08</th>\n",
       "      <th>-1.07</th>\n",
       "      <th>-1.06</th>\n",
       "      <th>-1.05</th>\n",
       "      <th>-1.04</th>\n",
       "      <th>-1.03</th>\n",
       "      <th>-1.02</th>\n",
       "      <th>-1.01</th>\n",
       "    </tr>\n",
       "    <tr>\n",
       "      <th>w</th>\n",
       "      <th></th>\n",
       "      <th></th>\n",
       "      <th></th>\n",
       "      <th></th>\n",
       "      <th></th>\n",
       "      <th></th>\n",
       "      <th></th>\n",
       "      <th></th>\n",
       "      <th></th>\n",
       "      <th></th>\n",
       "      <th></th>\n",
       "      <th></th>\n",
       "      <th></th>\n",
       "      <th></th>\n",
       "      <th></th>\n",
       "      <th></th>\n",
       "      <th></th>\n",
       "      <th></th>\n",
       "      <th></th>\n",
       "      <th></th>\n",
       "      <th></th>\n",
       "    </tr>\n",
       "  </thead>\n",
       "  <tbody>\n",
       "    <tr>\n",
       "      <th>0.04</th>\n",
       "      <td>79.266779</td>\n",
       "      <td>78.450200</td>\n",
       "      <td>77.633641</td>\n",
       "      <td>76.817103</td>\n",
       "      <td>76.000585</td>\n",
       "      <td>75.184086</td>\n",
       "      <td>74.367609</td>\n",
       "      <td>73.551151</td>\n",
       "      <td>72.734715</td>\n",
       "      <td>71.918298</td>\n",
       "      <td>...</td>\n",
       "      <td>5.863401</td>\n",
       "      <td>5.048892</td>\n",
       "      <td>4.234407</td>\n",
       "      <td>3.419947</td>\n",
       "      <td>2.605511</td>\n",
       "      <td>1.791101</td>\n",
       "      <td>0.976715</td>\n",
       "      <td>0.162355</td>\n",
       "      <td>-0.651981</td>\n",
       "      <td>-1.466292</td>\n",
       "    </tr>\n",
       "    <tr>\n",
       "      <th>0.05</th>\n",
       "      <td>58.114513</td>\n",
       "      <td>57.298481</td>\n",
       "      <td>56.482472</td>\n",
       "      <td>55.666485</td>\n",
       "      <td>54.850520</td>\n",
       "      <td>54.034577</td>\n",
       "      <td>53.218657</td>\n",
       "      <td>52.402759</td>\n",
       "      <td>51.586883</td>\n",
       "      <td>50.771030</td>\n",
       "      <td>...</td>\n",
       "      <td>-15.234007</td>\n",
       "      <td>-16.047880</td>\n",
       "      <td>-16.861728</td>\n",
       "      <td>-17.675551</td>\n",
       "      <td>-18.489351</td>\n",
       "      <td>-19.303125</td>\n",
       "      <td>-20.116875</td>\n",
       "      <td>-20.930601</td>\n",
       "      <td>-21.744303</td>\n",
       "      <td>-22.557980</td>\n",
       "    </tr>\n",
       "    <tr>\n",
       "      <th>0.06</th>\n",
       "      <td>36.977471</td>\n",
       "      <td>36.162032</td>\n",
       "      <td>35.346617</td>\n",
       "      <td>34.531225</td>\n",
       "      <td>33.715857</td>\n",
       "      <td>32.900513</td>\n",
       "      <td>32.085192</td>\n",
       "      <td>31.269895</td>\n",
       "      <td>30.454622</td>\n",
       "      <td>29.639373</td>\n",
       "      <td>...</td>\n",
       "      <td>-36.314870</td>\n",
       "      <td>-37.128126</td>\n",
       "      <td>-37.941358</td>\n",
       "      <td>-38.754567</td>\n",
       "      <td>-39.567752</td>\n",
       "      <td>-40.380915</td>\n",
       "      <td>-41.194054</td>\n",
       "      <td>-42.007169</td>\n",
       "      <td>-42.820262</td>\n",
       "      <td>-43.633331</td>\n",
       "    </tr>\n",
       "    <tr>\n",
       "      <th>0.07</th>\n",
       "      <td>15.856587</td>\n",
       "      <td>15.041769</td>\n",
       "      <td>14.226976</td>\n",
       "      <td>13.412207</td>\n",
       "      <td>12.597462</td>\n",
       "      <td>11.782741</td>\n",
       "      <td>10.968045</td>\n",
       "      <td>10.153373</td>\n",
       "      <td>9.338726</td>\n",
       "      <td>8.524103</td>\n",
       "      <td>...</td>\n",
       "      <td>-57.380050</td>\n",
       "      <td>-58.192727</td>\n",
       "      <td>-59.005383</td>\n",
       "      <td>-59.818016</td>\n",
       "      <td>-60.630628</td>\n",
       "      <td>-61.443218</td>\n",
       "      <td>-62.255787</td>\n",
       "      <td>-63.068334</td>\n",
       "      <td>-63.880860</td>\n",
       "      <td>-64.693365</td>\n",
       "    </tr>\n",
       "    <tr>\n",
       "      <th>0.08</th>\n",
       "      <td>-5.247733</td>\n",
       "      <td>-6.061922</td>\n",
       "      <td>-6.876087</td>\n",
       "      <td>-7.690227</td>\n",
       "      <td>-8.504343</td>\n",
       "      <td>-9.318435</td>\n",
       "      <td>-10.132502</td>\n",
       "      <td>-10.946545</td>\n",
       "      <td>-11.760564</td>\n",
       "      <td>-12.574558</td>\n",
       "      <td>...</td>\n",
       "      <td>-78.430819</td>\n",
       "      <td>-79.242968</td>\n",
       "      <td>-80.055098</td>\n",
       "      <td>-80.867208</td>\n",
       "      <td>-81.679299</td>\n",
       "      <td>-82.491370</td>\n",
       "      <td>-83.303421</td>\n",
       "      <td>-84.115454</td>\n",
       "      <td>-84.927467</td>\n",
       "      <td>-85.739461</td>\n",
       "    </tr>\n",
       "  </tbody>\n",
       "</table>\n",
       "<p>5 rows × 100 columns</p>\n",
       "</div>"
      ],
      "text/plain": [
       "b         -2.00      -1.99      -1.98      -1.97      -1.96      -1.95  \\\n",
       "w                                                                        \n",
       "0.04  79.266779  78.450200  77.633641  76.817103  76.000585  75.184086   \n",
       "0.05  58.114513  57.298481  56.482472  55.666485  54.850520  54.034577   \n",
       "0.06  36.977471  36.162032  35.346617  34.531225  33.715857  32.900513   \n",
       "0.07  15.856587  15.041769  14.226976  13.412207  12.597462  11.782741   \n",
       "0.08  -5.247733  -6.061922  -6.876087  -7.690227  -8.504343  -9.318435   \n",
       "\n",
       "b         -1.94      -1.93      -1.92      -1.91  ...      -1.10      -1.09  \\\n",
       "w                                                 ...                         \n",
       "0.04  74.367609  73.551151  72.734715  71.918298  ...   5.863401   5.048892   \n",
       "0.05  53.218657  52.402759  51.586883  50.771030  ... -15.234007 -16.047880   \n",
       "0.06  32.085192  31.269895  30.454622  29.639373  ... -36.314870 -37.128126   \n",
       "0.07  10.968045  10.153373   9.338726   8.524103  ... -57.380050 -58.192727   \n",
       "0.08 -10.132502 -10.946545 -11.760564 -12.574558  ... -78.430819 -79.242968   \n",
       "\n",
       "b         -1.08      -1.07      -1.06      -1.05      -1.04      -1.03  \\\n",
       "w                                                                        \n",
       "0.04   4.234407   3.419947   2.605511   1.791101   0.976715   0.162355   \n",
       "0.05 -16.861728 -17.675551 -18.489351 -19.303125 -20.116875 -20.930601   \n",
       "0.06 -37.941358 -38.754567 -39.567752 -40.380915 -41.194054 -42.007169   \n",
       "0.07 -59.005383 -59.818016 -60.630628 -61.443218 -62.255787 -63.068334   \n",
       "0.08 -80.055098 -80.867208 -81.679299 -82.491370 -83.303421 -84.115454   \n",
       "\n",
       "b         -1.02      -1.01  \n",
       "w                           \n",
       "0.04  -0.651981  -1.466292  \n",
       "0.05 -21.744303 -22.557980  \n",
       "0.06 -42.820262 -43.633331  \n",
       "0.07 -63.880860 -64.693365  \n",
       "0.08 -84.927467 -85.739461  \n",
       "\n",
       "[5 rows x 100 columns]"
      ]
     },
     "execution_count": 30,
     "metadata": {},
     "output_type": "execute_result"
    }
   ],
   "source": [
    "df_3d.head()"
   ]
  },
  {
   "cell_type": "code",
   "execution_count": 31,
   "id": "b242b976-a563-4608-95db-d89b134f2241",
   "metadata": {
    "tags": []
   },
   "outputs": [],
   "source": [
    "import matplotlib as mpl\n",
    "import matplotlib.pyplot as plt\n",
    "from mpl_toolkits.mplot3d import Axes3D"
   ]
  },
  {
   "cell_type": "code",
   "execution_count": 32,
   "id": "d3e34b4a-4b6e-40e1-8e61-5ad02bfe77c9",
   "metadata": {
    "tags": []
   },
   "outputs": [
    {
     "data": {
      "text/plain": [
       "<mpl_toolkits.mplot3d.art3d.Poly3DCollection at 0x1a3171dadd0>"
      ]
     },
     "execution_count": 32,
     "metadata": {},
     "output_type": "execute_result"
    },
    {
     "data": {
      "image/png": "[encoded data removed]",
      "text/plain": [
       "<Figure size 640x480 with 1 Axes>"
      ]
     },
     "metadata": {},
     "output_type": "display_data"
    }
   ],
   "source": [
    "x = df_3d.columns\n",
    "y = df_3d.index\n",
    "X,Y = np.meshgrid(x,y)\n",
    "Z = df_3d\n",
    "\n",
    "fig = plt.figure()\n",
    "ax = fig.add_subplot(111, projection='3d')\n",
    "ax.plot_surface(X, Y, Z)"
   ]
  },
  {
   "cell_type": "code",
   "execution_count": 33,
   "id": "c77f0ebc-52d1-4b27-a5e4-8e1eefb2964d",
   "metadata": {
    "tags": []
   },
   "outputs": [
    {
     "data": {
      "text/plain": [
       "<matplotlib.contour.QuadContourSet at 0x1a318039950>"
      ]
     },
     "execution_count": 33,
     "metadata": {},
     "output_type": "execute_result"
    },
    {
     "data": {
      "image/png": "[encoded data removed]",
      "text/plain": [
       "<Figure size 640x480 with 1 Axes>"
      ]
     },
     "metadata": {},
     "output_type": "display_data"
    }
   ],
   "source": [
    "x = df_3d.columns\n",
    "y = df_3d.index\n",
    "X,Y = np.meshgrid(x,y)\n",
    "Z = df_3d\n",
    "plt.contourf(Y, X, Z, alpha=0.7, cmap=plt.cm.jet)"
   ]
  },
  {
   "cell_type": "code",
   "execution_count": 34,
   "id": "88acb46b-562d-4d75-b6d8-7cd4e74caeb2",
   "metadata": {
    "tags": []
   },
   "outputs": [],
   "source": [
    "def delta_j_w(w, b):\n",
    "    data['sigmoid'] = 1/(1+np.exp(-(data['BMI']*w+b)))\n",
    "    data['partial_loss'] = (data['sigmoid']-data['glucose'])*data['BMI']\n",
    "    derivative = data['partial_loss'].mean()\n",
    "    return(derivative) \n",
    "\n",
    "def delta_j_b(w, b):\n",
    "    data['sigmoid'] = 1/(1+np.exp(-(data['BMI']*w+b)))\n",
    "    data['partial_loss'] = (data['sigmoid']-data['glucose'])\n",
    "    derivative = data['partial_loss'].mean()\n",
    "    return(derivative) "
   ]
  },
  {
   "cell_type": "code",
   "execution_count": 35,
   "id": "bb5ae818-ffd6-48c5-bb94-774c829580e5",
   "metadata": {
    "tags": []
   },
   "outputs": [],
   "source": [
    "w_0 = 0.5\n",
    "b_0 = -4.6"
   ]
  },
  {
   "cell_type": "code",
   "execution_count": 36,
   "id": "7d9396de-73af-4e38-b29f-8e209570d323",
   "metadata": {
    "tags": []
   },
   "outputs": [
    {
     "name": "stdout",
     "output_type": "stream",
     "text": [
      "63.42285370077283 -2.98127231621655\n"
     ]
    }
   ],
   "source": [
    "alpha_w = 0.03\n",
    "alpha_b = 0.02\n",
    "\n",
    "w_new = w_0 - alpha_w * delta_j_w(w_0, b_0)\n",
    "b_new = b_0 - alpha_b * delta_j_b(w_0, b_0)\n",
    "\n",
    "w_0 = w_new\n",
    "b_0 = b_new\n",
    "\n",
    "print(w_0, b_0)"
   ]
  },
  {
   "cell_type": "code",
   "execution_count": null,
   "id": "aaa6b78c-715a-422f-9271-1a8d05cec16f",
   "metadata": {},
   "outputs": [],
   "source": []
  }
 ],
 "metadata": {
  "kernelspec": {
   "display_name": "Python 3 (ipykernel)",
   "language": "python",
   "name": "python3"
  },
  "language_info": {
   "codemirror_mode": {
    "name": "ipython",
    "version": 3
   },
   "file_extension": ".py",
   "mimetype": "text/x-python",
   "name": "python",
   "nbconvert_exporter": "python",
   "pygments_lexer": "ipython3",
   "version": "3.11.4"
  }
 },
 "nbformat": 4,
 "nbformat_minor": 5
}
